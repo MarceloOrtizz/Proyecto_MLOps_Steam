{
 "cells": [
  {
   "cell_type": "code",
   "execution_count": 1,
   "metadata": {},
   "outputs": [],
   "source": [
    "import pandas as pd"
   ]
  },
  {
   "cell_type": "code",
   "execution_count": 2,
   "metadata": {},
   "outputs": [],
   "source": [
    "consulta_5 = pd.read_csv('./data/consultas/sentiment_analysis.csv.gz',compression='gzip')"
   ]
  },
  {
   "cell_type": "code",
   "execution_count": 15,
   "metadata": {},
   "outputs": [],
   "source": [
    "def sentiment_analysis(year: int):\n",
    "  '''Cantidad de reseñas de usuarios para el año dado.'''\n",
    "  try:\n",
    "    consulta_5 = pd.read_csv('./data/consultas/sentiment_analysis.csv.gz',compression='gzip')\n",
    "    valores=consulta_5['sentiment_analysis'][consulta_5['year']==year].value_counts().reset_index()\n",
    "    resultado = {'Negative': str(valores.loc[2, 'count']),\n",
    "        'Neutral': str(valores.loc[1, 'count']),\n",
    "        'Positive': str(valores.loc[0, 'count'])}\n",
    "    \n",
    "    return type(str(valores.loc[0, 'count']))\n",
    "\n",
    "  except Exception as e :\n",
    "    return {f'ERROR: {e}'}"
   ]
  },
  {
   "cell_type": "code",
   "execution_count": 16,
   "metadata": {},
   "outputs": [
    {
     "data": {
      "text/plain": [
       "str"
      ]
     },
     "execution_count": 16,
     "metadata": {},
     "output_type": "execute_result"
    }
   ],
   "source": [
    "sentiment_analysis(2012)"
   ]
  },
  {
   "cell_type": "code",
   "execution_count": 14,
   "metadata": {},
   "outputs": [
    {
     "data": {
      "text/html": [
       "<div>\n",
       "<style scoped>\n",
       "    .dataframe tbody tr th:only-of-type {\n",
       "        vertical-align: middle;\n",
       "    }\n",
       "\n",
       "    .dataframe tbody tr th {\n",
       "        vertical-align: top;\n",
       "    }\n",
       "\n",
       "    .dataframe thead th {\n",
       "        text-align: right;\n",
       "    }\n",
       "</style>\n",
       "<table border=\"1\" class=\"dataframe\">\n",
       "  <thead>\n",
       "    <tr style=\"text-align: right;\">\n",
       "      <th></th>\n",
       "      <th>sentiment_analysis</th>\n",
       "      <th>count</th>\n",
       "    </tr>\n",
       "  </thead>\n",
       "  <tbody>\n",
       "    <tr>\n",
       "      <th>0</th>\n",
       "      <td>2</td>\n",
       "      <td>5025</td>\n",
       "    </tr>\n",
       "    <tr>\n",
       "      <th>1</th>\n",
       "      <td>1</td>\n",
       "      <td>2863</td>\n",
       "    </tr>\n",
       "    <tr>\n",
       "      <th>2</th>\n",
       "      <td>0</td>\n",
       "      <td>1029</td>\n",
       "    </tr>\n",
       "  </tbody>\n",
       "</table>\n",
       "</div>"
      ],
      "text/plain": [
       "   sentiment_analysis  count\n",
       "0                   2   5025\n",
       "1                   1   2863\n",
       "2                   0   1029"
      ]
     },
     "execution_count": 14,
     "metadata": {},
     "output_type": "execute_result"
    }
   ],
   "source": [
    "year=2012\n",
    "consulta_5['sentiment_analysis'][consulta_5['year']==year].value_counts().reset_index()"
   ]
  },
  {
   "cell_type": "code",
   "execution_count": 15,
   "metadata": {},
   "outputs": [],
   "source": [
    "consulta_5 = pd.read_csv('./data/consultas/sentiment_analysis.csv.gz',compression='gzip')\n"
   ]
  },
  {
   "cell_type": "code",
   "execution_count": 16,
   "metadata": {},
   "outputs": [],
   "source": [
    "valores=consulta_5['sentiment_analysis'][consulta_5['year']==year].value_counts().reset_index()\n"
   ]
  },
  {
   "cell_type": "code",
   "execution_count": 32,
   "metadata": {},
   "outputs": [
    {
     "data": {
      "text/plain": [
       "1029"
      ]
     },
     "execution_count": 32,
     "metadata": {},
     "output_type": "execute_result"
    }
   ],
   "source": [
    "valores.loc[2, 'count']"
   ]
  },
  {
   "cell_type": "code",
   "execution_count": 35,
   "metadata": {},
   "outputs": [],
   "source": [
    "resultado = {'Negative': valores.loc[2, 'count'],\n",
    "'Neutral': valores.loc[1, 'count'],\n",
    "'Positive': valores.loc[0, 'count']}\n",
    "  "
   ]
  },
  {
   "cell_type": "code",
   "execution_count": 34,
   "metadata": {},
   "outputs": [
    {
     "data": {
      "text/plain": [
       "{'Negative': 1029, 'Neutral': 2863, 'Positive': 5025}"
      ]
     },
     "execution_count": 34,
     "metadata": {},
     "output_type": "execute_result"
    }
   ],
   "source": [
    "resultado"
   ]
  },
  {
   "cell_type": "code",
   "execution_count": 35,
   "metadata": {},
   "outputs": [],
   "source": [
    "consulta_5 = pd.read_csv('./data/consultas/sentiment_analysis.csv.gz',compression='gzip')"
   ]
  },
  {
   "cell_type": "code",
   "execution_count": 38,
   "metadata": {},
   "outputs": [],
   "source": [
    "valores=consulta_5['sentiment_analysis'][consulta_5['year']==2012]"
   ]
  },
  {
   "cell_type": "code",
   "execution_count": 39,
   "metadata": {},
   "outputs": [
    {
     "data": {
      "text/plain": [
       "4864     2\n",
       "4865     1\n",
       "4866     2\n",
       "4867     0\n",
       "4868     1\n",
       "        ..\n",
       "40907    0\n",
       "40908    0\n",
       "40909    1\n",
       "40910    2\n",
       "40911    0\n",
       "Name: sentiment_analysis, Length: 8917, dtype: int64"
      ]
     },
     "execution_count": 39,
     "metadata": {},
     "output_type": "execute_result"
    }
   ],
   "source": [
    "valores"
   ]
  },
  {
   "cell_type": "code",
   "execution_count": 19,
   "metadata": {},
   "outputs": [],
   "source": [
    "def sentiment_analysis(year: int):\n",
    "  '''Cantidad de reseñas de usuarios para el año dado.'''\n",
    "  try:\n",
    "    consulta_5 = pd.read_csv('./data/consultas/sentiment_analysis.csv.gz',compression='gzip')\n",
    "    valores=consulta_5['sentiment_analysis'][consulta_5['year']==year].value_counts().reset_index()\n",
    "    resultado = {'Negative': str(valores.loc[2, 'count']),\n",
    "        'Neutral': str(valores.loc[1, 'count']),\n",
    "        'Positive': str(valores.loc[0, 'count'])}\n",
    "    \n",
    "    return resultado\n",
    "\n",
    "  except Exception as e :\n",
    "    return {f'ERROR: {e}'}"
   ]
  },
  {
   "cell_type": "code",
   "execution_count": 34,
   "metadata": {},
   "outputs": [
    {
     "data": {
      "text/plain": [
       "{'Negative': '224', 'Neutral': '555', 'Positive': '1201'}"
      ]
     },
     "execution_count": 34,
     "metadata": {},
     "output_type": "execute_result"
    }
   ],
   "source": [
    "sentiment_analysis(2010)"
   ]
  },
  {
   "cell_type": "code",
   "execution_count": 31,
   "metadata": {},
   "outputs": [
    {
     "name": "stdout",
     "output_type": "stream",
     "text": [
      "{'Negative': '1', 'Neutral': '1', 'Positive': '3'}\n",
      "{'Negative': '2', 'Neutral': '5', 'Positive': '8'}\n",
      "{'Negative': '3', 'Neutral': '3', 'Positive': '10'}\n",
      "{'ERROR: 2'}\n",
      "{'Negative': '6', 'Neutral': '10', 'Positive': '32'}\n",
      "{'Negative': '11', 'Neutral': '31', 'Positive': '53'}\n",
      "{'Negative': '9', 'Neutral': '32', 'Positive': '35'}\n",
      "{'Negative': '6', 'Neutral': '42', 'Positive': '50'}\n",
      "{'Negative': '7', 'Neutral': '10', 'Positive': '17'}\n",
      "{'Negative': '6', 'Neutral': '9', 'Positive': '29'}\n",
      "{'Negative': '38', 'Neutral': '72', 'Positive': '105'}\n",
      "{'Negative': '44', 'Neutral': '175', 'Positive': '328'}\n",
      "{'Negative': '26', 'Neutral': '90', 'Positive': '173'}\n",
      "{'Negative': '171', 'Neutral': '633', 'Positive': '1228'}\n",
      "{'Negative': '282', 'Neutral': '1344', 'Positive': '2501'}\n",
      "{'Negative': '42', 'Neutral': '122', 'Positive': '290'}\n",
      "{'Negative': '233', 'Neutral': '655', 'Positive': '1064'}\n",
      "{'Negative': '224', 'Neutral': '555', 'Positive': '1201'}\n",
      "{'Negative': '349', 'Neutral': '1032', 'Positive': '2036'}\n",
      "{'Negative': '1029', 'Neutral': '2863', 'Positive': '5025'}\n",
      "{'Negative': '909', 'Neutral': '2196', 'Positive': '4370'}\n",
      "{'Negative': '865', 'Neutral': '1867', 'Positive': '3622'}\n",
      "{'Negative': '913', 'Neutral': '2036', 'Positive': '3667'}\n",
      "{'Negative': '392', 'Neutral': '802', 'Positive': '1749'}\n",
      "{'Negative': '262', 'Neutral': '648', 'Positive': '1160'}\n"
     ]
    }
   ],
   "source": [
    "for x in range(1993,2018):\n",
    "    print(sentiment_analysis(x))\n",
    "    "
   ]
  }
 ],
 "metadata": {
  "kernelspec": {
   "display_name": "venv",
   "language": "python",
   "name": "python3"
  },
  "language_info": {
   "codemirror_mode": {
    "name": "ipython",
    "version": 3
   },
   "file_extension": ".py",
   "mimetype": "text/x-python",
   "name": "python",
   "nbconvert_exporter": "python",
   "pygments_lexer": "ipython3",
   "version": "3.10.11"
  }
 },
 "nbformat": 4,
 "nbformat_minor": 2
}
