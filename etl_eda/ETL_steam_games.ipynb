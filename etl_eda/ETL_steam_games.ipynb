{
 "cells": [
  {
   "cell_type": "code",
   "execution_count": 1,
   "metadata": {},
   "outputs": [],
   "source": [
    "import pandas as pd\n",
    "import gzip\n",
    "import re"
   ]
  },
  {
   "cell_type": "code",
   "execution_count": 2,
   "metadata": {},
   "outputs": [],
   "source": [
    "steam_games = pd.read_json('../data/original/steam_games.json.gz',compression='gzip',lines=True)"
   ]
  },
  {
   "cell_type": "code",
   "execution_count": 3,
   "metadata": {},
   "outputs": [
    {
     "name": "stdout",
     "output_type": "stream",
     "text": [
      "<class 'pandas.core.frame.DataFrame'>\n",
      "RangeIndex: 120445 entries, 0 to 120444\n",
      "Data columns (total 13 columns):\n",
      " #   Column        Non-Null Count  Dtype  \n",
      "---  ------        --------------  -----  \n",
      " 0   publisher     24083 non-null  object \n",
      " 1   genres        28852 non-null  object \n",
      " 2   app_name      32133 non-null  object \n",
      " 3   title         30085 non-null  object \n",
      " 4   url           32135 non-null  object \n",
      " 5   release_date  30068 non-null  object \n",
      " 6   tags          31972 non-null  object \n",
      " 7   reviews_url   32133 non-null  object \n",
      " 8   specs         31465 non-null  object \n",
      " 9   price         30758 non-null  object \n",
      " 10  early_access  32135 non-null  float64\n",
      " 11  id            32133 non-null  float64\n",
      " 12  developer     28836 non-null  object \n",
      "dtypes: float64(2), object(11)\n",
      "memory usage: 11.9+ MB\n"
     ]
    }
   ],
   "source": [
    "steam_games.info()"
   ]
  },
  {
   "cell_type": "code",
   "execution_count": 4,
   "metadata": {},
   "outputs": [
    {
     "data": {
      "text/plain": [
       "publisher       80.004982\n",
       "genres          76.045498\n",
       "app_name        73.321433\n",
       "title           75.021794\n",
       "url             73.319773\n",
       "release_date    75.035909\n",
       "tags            73.455104\n",
       "reviews_url     73.321433\n",
       "specs           73.876043\n",
       "price           74.463033\n",
       "early_access    73.319773\n",
       "id              73.321433\n",
       "developer       76.058782\n",
       "dtype: float64"
      ]
     },
     "execution_count": 4,
     "metadata": {},
     "output_type": "execute_result"
    }
   ],
   "source": [
    "#calculo el porcentaje de valores nulos en cada columna (son muchas, mas del 70%)\n",
    "100*steam_games.isna().sum()/len(steam_games)"
   ]
  },
  {
   "cell_type": "code",
   "execution_count": 5,
   "metadata": {},
   "outputs": [],
   "source": [
    "#Borro todas las filas que estan completamente Nulas\n",
    "steam_games = steam_games.dropna(how='all')"
   ]
  },
  {
   "cell_type": "code",
   "execution_count": 6,
   "metadata": {},
   "outputs": [
    {
     "data": {
      "text/plain": [
       "publisher       25.056792\n",
       "genres          10.216275\n",
       "app_name         0.006224\n",
       "title            6.379337\n",
       "url              0.000000\n",
       "release_date     6.432239\n",
       "tags             0.507235\n",
       "reviews_url      0.006224\n",
       "specs            2.084954\n",
       "price            4.285047\n",
       "early_access     0.000000\n",
       "id               0.006224\n",
       "developer       10.266065\n",
       "dtype: float64"
      ]
     },
     "execution_count": 6,
     "metadata": {},
     "output_type": "execute_result"
    }
   ],
   "source": [
    "#vuelvo a calcular el porcentaje de valores nulos en cada columna\n",
    "100*steam_games.isna().sum()/len(steam_games)"
   ]
  },
  {
   "cell_type": "code",
   "execution_count": 7,
   "metadata": {},
   "outputs": [
    {
     "data": {
      "text/plain": [
       "publisher       8052\n",
       "genres          3283\n",
       "app_name           2\n",
       "title           2050\n",
       "url                0\n",
       "release_date    2067\n",
       "tags             163\n",
       "reviews_url        2\n",
       "specs            670\n",
       "price           1377\n",
       "early_access       0\n",
       "id                 2\n",
       "developer       3299\n",
       "dtype: int64"
      ]
     },
     "execution_count": 7,
     "metadata": {},
     "output_type": "execute_result"
    }
   ],
   "source": [
    "#cantidad de nulos por columna\n",
    "steam_games.isna().sum()"
   ]
  },
  {
   "cell_type": "code",
   "execution_count": 8,
   "metadata": {},
   "outputs": [
    {
     "name": "stdout",
     "output_type": "stream",
     "text": [
      "<class 'pandas.core.frame.DataFrame'>\n",
      "Index: 32135 entries, 88310 to 120444\n",
      "Data columns (total 13 columns):\n",
      " #   Column        Non-Null Count  Dtype  \n",
      "---  ------        --------------  -----  \n",
      " 0   publisher     24083 non-null  object \n",
      " 1   genres        28852 non-null  object \n",
      " 2   app_name      32133 non-null  object \n",
      " 3   title         30085 non-null  object \n",
      " 4   url           32135 non-null  object \n",
      " 5   release_date  30068 non-null  object \n",
      " 6   tags          31972 non-null  object \n",
      " 7   reviews_url   32133 non-null  object \n",
      " 8   specs         31465 non-null  object \n",
      " 9   price         30758 non-null  object \n",
      " 10  early_access  32135 non-null  float64\n",
      " 11  id            32133 non-null  float64\n",
      " 12  developer     28836 non-null  object \n",
      "dtypes: float64(2), object(11)\n",
      "memory usage: 3.4+ MB\n"
     ]
    }
   ],
   "source": [
    "steam_games.info()"
   ]
  },
  {
   "cell_type": "code",
   "execution_count": 9,
   "metadata": {},
   "outputs": [],
   "source": [
    "# Completar los generos con las etiquetas de los Tags\n",
    "steam_games['genres'] = steam_games['tags'].fillna(steam_games['genres'])"
   ]
  },
  {
   "cell_type": "code",
   "execution_count": 10,
   "metadata": {},
   "outputs": [
    {
     "data": {
      "text/html": [
       "<div>\n",
       "<style scoped>\n",
       "    .dataframe tbody tr th:only-of-type {\n",
       "        vertical-align: middle;\n",
       "    }\n",
       "\n",
       "    .dataframe tbody tr th {\n",
       "        vertical-align: top;\n",
       "    }\n",
       "\n",
       "    .dataframe thead th {\n",
       "        text-align: right;\n",
       "    }\n",
       "</style>\n",
       "<table border=\"1\" class=\"dataframe\">\n",
       "  <thead>\n",
       "    <tr style=\"text-align: right;\">\n",
       "      <th></th>\n",
       "      <th>publisher</th>\n",
       "      <th>genres</th>\n",
       "      <th>app_name</th>\n",
       "      <th>title</th>\n",
       "      <th>url</th>\n",
       "      <th>release_date</th>\n",
       "      <th>tags</th>\n",
       "      <th>reviews_url</th>\n",
       "      <th>specs</th>\n",
       "      <th>price</th>\n",
       "      <th>early_access</th>\n",
       "      <th>id</th>\n",
       "      <th>developer</th>\n",
       "    </tr>\n",
       "  </thead>\n",
       "  <tbody>\n",
       "    <tr>\n",
       "      <th>88384</th>\n",
       "      <td>None</td>\n",
       "      <td>None</td>\n",
       "      <td>None</td>\n",
       "      <td>None</td>\n",
       "      <td>http://store.steampowered.com/</td>\n",
       "      <td>None</td>\n",
       "      <td>None</td>\n",
       "      <td>None</td>\n",
       "      <td>None</td>\n",
       "      <td>19.99</td>\n",
       "      <td>0.0</td>\n",
       "      <td>NaN</td>\n",
       "      <td>None</td>\n",
       "    </tr>\n",
       "    <tr>\n",
       "      <th>119271</th>\n",
       "      <td>Warner Bros. Interactive Entertainment, Feral ...</td>\n",
       "      <td>[Action, Open World, Batman, Adventure, Stealt...</td>\n",
       "      <td>Batman: Arkham City - Game of the Year Edition</td>\n",
       "      <td>Batman: Arkham City - Game of the Year Edition</td>\n",
       "      <td>http://store.steampowered.com/app/200260</td>\n",
       "      <td>2012-09-07</td>\n",
       "      <td>[Action, Open World, Batman, Adventure, Stealt...</td>\n",
       "      <td>None</td>\n",
       "      <td>[Single-player, Steam Achievements, Steam Trad...</td>\n",
       "      <td>19.99</td>\n",
       "      <td>0.0</td>\n",
       "      <td>NaN</td>\n",
       "      <td>Rocksteady Studios,Feral Interactive (Mac)</td>\n",
       "    </tr>\n",
       "  </tbody>\n",
       "</table>\n",
       "</div>"
      ],
      "text/plain": [
       "                                                publisher  \\\n",
       "88384                                                None   \n",
       "119271  Warner Bros. Interactive Entertainment, Feral ...   \n",
       "\n",
       "                                                   genres  \\\n",
       "88384                                                None   \n",
       "119271  [Action, Open World, Batman, Adventure, Stealt...   \n",
       "\n",
       "                                              app_name  \\\n",
       "88384                                             None   \n",
       "119271  Batman: Arkham City - Game of the Year Edition   \n",
       "\n",
       "                                                 title  \\\n",
       "88384                                             None   \n",
       "119271  Batman: Arkham City - Game of the Year Edition   \n",
       "\n",
       "                                             url release_date  \\\n",
       "88384             http://store.steampowered.com/         None   \n",
       "119271  http://store.steampowered.com/app/200260   2012-09-07   \n",
       "\n",
       "                                                     tags reviews_url  \\\n",
       "88384                                                None        None   \n",
       "119271  [Action, Open World, Batman, Adventure, Stealt...        None   \n",
       "\n",
       "                                                    specs  price  \\\n",
       "88384                                                None  19.99   \n",
       "119271  [Single-player, Steam Achievements, Steam Trad...  19.99   \n",
       "\n",
       "        early_access  id                                   developer  \n",
       "88384            0.0 NaN                                        None  \n",
       "119271           0.0 NaN  Rocksteady Studios,Feral Interactive (Mac)  "
      ]
     },
     "execution_count": 10,
     "metadata": {},
     "output_type": "execute_result"
    }
   ],
   "source": [
    "steam_games[steam_games['id'].isna()]"
   ]
  },
  {
   "cell_type": "code",
   "execution_count": 11,
   "metadata": {},
   "outputs": [],
   "source": [
    "# columnas que necesito para los endpoints:\n",
    "# genres  (tags)\n",
    "# app_name  (title)\n",
    "# release_date  ()\n",
    "# id    (url)\n",
    "\n"
   ]
  },
  {
   "cell_type": "code",
   "execution_count": 12,
   "metadata": {},
   "outputs": [
    {
     "data": {
      "text/plain": [
       "Index(['publisher', 'genres', 'app_name', 'title', 'url', 'release_date',\n",
       "       'tags', 'reviews_url', 'specs', 'price', 'early_access', 'id',\n",
       "       'developer'],\n",
       "      dtype='object')"
      ]
     },
     "execution_count": 12,
     "metadata": {},
     "output_type": "execute_result"
    }
   ],
   "source": [
    "steam_games.columns"
   ]
  },
  {
   "cell_type": "code",
   "execution_count": 13,
   "metadata": {},
   "outputs": [
    {
     "data": {
      "text/plain": [
       "genres           139\n",
       "app_name           2\n",
       "release_date    2067\n",
       "id                 2\n",
       "dtype: int64"
      ]
     },
     "execution_count": 13,
     "metadata": {},
     "output_type": "execute_result"
    }
   ],
   "source": [
    "steam_games[['genres', 'app_name','release_date','id']].isna().sum()"
   ]
  },
  {
   "cell_type": "code",
   "execution_count": 14,
   "metadata": {},
   "outputs": [
    {
     "data": {
      "text/html": [
       "<div>\n",
       "<style scoped>\n",
       "    .dataframe tbody tr th:only-of-type {\n",
       "        vertical-align: middle;\n",
       "    }\n",
       "\n",
       "    .dataframe tbody tr th {\n",
       "        vertical-align: top;\n",
       "    }\n",
       "\n",
       "    .dataframe thead th {\n",
       "        text-align: right;\n",
       "    }\n",
       "</style>\n",
       "<table border=\"1\" class=\"dataframe\">\n",
       "  <thead>\n",
       "    <tr style=\"text-align: right;\">\n",
       "      <th></th>\n",
       "      <th>app_name</th>\n",
       "      <th>title</th>\n",
       "    </tr>\n",
       "  </thead>\n",
       "  <tbody>\n",
       "    <tr>\n",
       "      <th>88384</th>\n",
       "      <td>None</td>\n",
       "      <td>None</td>\n",
       "    </tr>\n",
       "    <tr>\n",
       "      <th>90890</th>\n",
       "      <td>None</td>\n",
       "      <td>None</td>\n",
       "    </tr>\n",
       "  </tbody>\n",
       "</table>\n",
       "</div>"
      ],
      "text/plain": [
       "      app_name title\n",
       "88384     None  None\n",
       "90890     None  None"
      ]
     },
     "execution_count": 14,
     "metadata": {},
     "output_type": "execute_result"
    }
   ],
   "source": [
    "#Los registros que tienen valores nulos en \"app_name\" tambien son nulos en \"title\" (no se pueden imputar)\n",
    "steam_games[['app_name','title']][steam_games['app_name'].isna()]"
   ]
  },
  {
   "cell_type": "code",
   "execution_count": 15,
   "metadata": {},
   "outputs": [],
   "source": [
    "steam_games.dropna(subset=['app_name'], inplace=True)"
   ]
  },
  {
   "cell_type": "code",
   "execution_count": 16,
   "metadata": {},
   "outputs": [
    {
     "data": {
      "text/plain": [
       "genres           138\n",
       "app_name           0\n",
       "release_date    2066\n",
       "id                 1\n",
       "dtype: int64"
      ]
     },
     "execution_count": 16,
     "metadata": {},
     "output_type": "execute_result"
    }
   ],
   "source": [
    "steam_games[['genres', 'app_name','release_date','id']].isna().sum()"
   ]
  },
  {
   "cell_type": "code",
   "execution_count": 17,
   "metadata": {},
   "outputs": [
    {
     "data": {
      "text/html": [
       "<div>\n",
       "<style scoped>\n",
       "    .dataframe tbody tr th:only-of-type {\n",
       "        vertical-align: middle;\n",
       "    }\n",
       "\n",
       "    .dataframe tbody tr th {\n",
       "        vertical-align: top;\n",
       "    }\n",
       "\n",
       "    .dataframe thead th {\n",
       "        text-align: right;\n",
       "    }\n",
       "</style>\n",
       "<table border=\"1\" class=\"dataframe\">\n",
       "  <thead>\n",
       "    <tr style=\"text-align: right;\">\n",
       "      <th></th>\n",
       "      <th>app_name</th>\n",
       "      <th>url</th>\n",
       "      <th>id</th>\n",
       "    </tr>\n",
       "  </thead>\n",
       "  <tbody>\n",
       "    <tr>\n",
       "      <th>119271</th>\n",
       "      <td>Batman: Arkham City - Game of the Year Edition</td>\n",
       "      <td>http://store.steampowered.com/app/200260</td>\n",
       "      <td>NaN</td>\n",
       "    </tr>\n",
       "  </tbody>\n",
       "</table>\n",
       "</div>"
      ],
      "text/plain": [
       "                                              app_name  \\\n",
       "119271  Batman: Arkham City - Game of the Year Edition   \n",
       "\n",
       "                                             url  id  \n",
       "119271  http://store.steampowered.com/app/200260 NaN  "
      ]
     },
     "execution_count": 17,
     "metadata": {},
     "output_type": "execute_result"
    }
   ],
   "source": [
    "steam_games[['app_name','url','id']][steam_games['id'].isna()]"
   ]
  },
  {
   "cell_type": "code",
   "execution_count": 18,
   "metadata": {},
   "outputs": [
    {
     "data": {
      "text/plain": [
       "'http://store.steampowered.com/app/200260'"
      ]
     },
     "execution_count": 18,
     "metadata": {},
     "output_type": "execute_result"
    }
   ],
   "source": [
    "# El unico valor nulo de \"id\" se puede imputar con el valor de la \"url\" \n",
    "steam_games['url'][steam_games['id'].isna()].values[0]"
   ]
  },
  {
   "cell_type": "code",
   "execution_count": 19,
   "metadata": {},
   "outputs": [],
   "source": [
    "# Funcion para extraer el numero de id de la url\n",
    "\n",
    "def imputar_id(url):\n",
    "    #buscamos el patron regular en la url\n",
    "    patron = r\"/app/(\\d+)\"\n",
    "\n",
    "    #numero de id en url\n",
    "    num = re.search(patron, url)\n",
    "\n",
    "    #si es un numero lo retorna, sino sigue nulo\n",
    "    if num:\n",
    "        numero = num.group(1)\n",
    "        return int(numero)\n",
    "    else:\n",
    "        return None "
   ]
  },
  {
   "cell_type": "code",
   "execution_count": 20,
   "metadata": {},
   "outputs": [],
   "source": [
    "steam_games.loc[steam_games['id'].isna(), 'id'] = steam_games.loc[steam_games['id'].isna(), 'url'].apply(imputar_id)"
   ]
  },
  {
   "cell_type": "code",
   "execution_count": 21,
   "metadata": {},
   "outputs": [
    {
     "data": {
      "text/plain": [
       "genres           138\n",
       "app_name           0\n",
       "release_date    2066\n",
       "id                 0\n",
       "dtype: int64"
      ]
     },
     "execution_count": 21,
     "metadata": {},
     "output_type": "execute_result"
    }
   ],
   "source": [
    "steam_games[['genres', 'app_name','release_date','id']].isna().sum()"
   ]
  },
  {
   "cell_type": "code",
   "execution_count": 22,
   "metadata": {},
   "outputs": [
    {
     "data": {
      "text/plain": [
       "id\n",
       "200260.0    2\n",
       "612880.0    2\n",
       "530200.0    1\n",
       "518690.0    1\n",
       "513460.0    1\n",
       "           ..\n",
       "665950.0    1\n",
       "430094.0    1\n",
       "676060.0    1\n",
       "494160.0    1\n",
       "681550.0    1\n",
       "Name: count, Length: 32131, dtype: int64"
      ]
     },
     "execution_count": 22,
     "metadata": {},
     "output_type": "execute_result"
    }
   ],
   "source": [
    "#Verifico que hay 2 id repetidos\n",
    "steam_games['id'].value_counts()"
   ]
  },
  {
   "cell_type": "code",
   "execution_count": 23,
   "metadata": {},
   "outputs": [
    {
     "data": {
      "text/html": [
       "<div>\n",
       "<style scoped>\n",
       "    .dataframe tbody tr th:only-of-type {\n",
       "        vertical-align: middle;\n",
       "    }\n",
       "\n",
       "    .dataframe tbody tr th {\n",
       "        vertical-align: top;\n",
       "    }\n",
       "\n",
       "    .dataframe thead th {\n",
       "        text-align: right;\n",
       "    }\n",
       "</style>\n",
       "<table border=\"1\" class=\"dataframe\">\n",
       "  <thead>\n",
       "    <tr style=\"text-align: right;\">\n",
       "      <th></th>\n",
       "      <th>genres</th>\n",
       "      <th>app_name</th>\n",
       "      <th>release_date</th>\n",
       "      <th>id</th>\n",
       "    </tr>\n",
       "  </thead>\n",
       "  <tbody>\n",
       "    <tr>\n",
       "      <th>89378</th>\n",
       "      <td>[Action, Open World, Batman, Adventure, Stealt...</td>\n",
       "      <td>Batman: Arkham City - Game of the Year Edition</td>\n",
       "      <td>2012-09-07</td>\n",
       "      <td>200260.0</td>\n",
       "    </tr>\n",
       "    <tr>\n",
       "      <th>102204</th>\n",
       "      <td>[Action, FPS, Gore, Violent, Alternate History...</td>\n",
       "      <td>Wolfenstein II: The New Colossus</td>\n",
       "      <td>2017-10-26</td>\n",
       "      <td>612880.0</td>\n",
       "    </tr>\n",
       "    <tr>\n",
       "      <th>102883</th>\n",
       "      <td>[Action, FPS, Gore, Violent, Alternate History...</td>\n",
       "      <td>Wolfenstein II: The New Colossus</td>\n",
       "      <td>2017-10-26</td>\n",
       "      <td>612880.0</td>\n",
       "    </tr>\n",
       "    <tr>\n",
       "      <th>119271</th>\n",
       "      <td>[Action, Open World, Batman, Adventure, Stealt...</td>\n",
       "      <td>Batman: Arkham City - Game of the Year Edition</td>\n",
       "      <td>2012-09-07</td>\n",
       "      <td>200260.0</td>\n",
       "    </tr>\n",
       "  </tbody>\n",
       "</table>\n",
       "</div>"
      ],
      "text/plain": [
       "                                                   genres  \\\n",
       "89378   [Action, Open World, Batman, Adventure, Stealt...   \n",
       "102204  [Action, FPS, Gore, Violent, Alternate History...   \n",
       "102883  [Action, FPS, Gore, Violent, Alternate History...   \n",
       "119271  [Action, Open World, Batman, Adventure, Stealt...   \n",
       "\n",
       "                                              app_name release_date        id  \n",
       "89378   Batman: Arkham City - Game of the Year Edition   2012-09-07  200260.0  \n",
       "102204                Wolfenstein II: The New Colossus   2017-10-26  612880.0  \n",
       "102883                Wolfenstein II: The New Colossus   2017-10-26  612880.0  \n",
       "119271  Batman: Arkham City - Game of the Year Edition   2012-09-07  200260.0  "
      ]
     },
     "execution_count": 23,
     "metadata": {},
     "output_type": "execute_result"
    }
   ],
   "source": [
    "steam_games[['genres', 'app_name','release_date','id']][(steam_games['id']==200260) | (steam_games['id']==612880)]"
   ]
  },
  {
   "cell_type": "code",
   "execution_count": 24,
   "metadata": {},
   "outputs": [],
   "source": [
    "# borro esos registros con valores duplicados en id, app_name y release_date\n",
    "steam_games.drop_duplicates(subset=['app_name','release_date','id'], inplace=True)"
   ]
  },
  {
   "cell_type": "code",
   "execution_count": 25,
   "metadata": {},
   "outputs": [
    {
     "data": {
      "text/plain": [
       "app_name\n",
       "Soundtrack                           3\n",
       "Goro                                 2\n",
       "Puzzle Blocks                        2\n",
       "WARZONE                              2\n",
       "Mars 2030                            2\n",
       "                                    ..\n",
       "VR - Killing Town / 杀戮小镇             1\n",
       "Lionheart                            1\n",
       "Secret World Legends                 1\n",
       "Graze Counter Original Soundtrack    1\n",
       "Maze Run VR                          1\n",
       "Name: count, Length: 32094, dtype: int64"
      ]
     },
     "execution_count": 25,
     "metadata": {},
     "output_type": "execute_result"
    }
   ],
   "source": [
    "steam_games['app_name'].value_counts()"
   ]
  },
  {
   "cell_type": "code",
   "execution_count": 26,
   "metadata": {},
   "outputs": [
    {
     "data": {
      "text/html": [
       "<div>\n",
       "<style scoped>\n",
       "    .dataframe tbody tr th:only-of-type {\n",
       "        vertical-align: middle;\n",
       "    }\n",
       "\n",
       "    .dataframe tbody tr th {\n",
       "        vertical-align: top;\n",
       "    }\n",
       "\n",
       "    .dataframe thead th {\n",
       "        text-align: right;\n",
       "    }\n",
       "</style>\n",
       "<table border=\"1\" class=\"dataframe\">\n",
       "  <thead>\n",
       "    <tr style=\"text-align: right;\">\n",
       "      <th></th>\n",
       "      <th>app_name</th>\n",
       "      <th>release_date</th>\n",
       "      <th>id</th>\n",
       "    </tr>\n",
       "  </thead>\n",
       "  <tbody>\n",
       "    <tr>\n",
       "      <th>93173</th>\n",
       "      <td>Soundtrack</td>\n",
       "      <td>2015-11-30</td>\n",
       "      <td>411110.0</td>\n",
       "    </tr>\n",
       "    <tr>\n",
       "      <th>108661</th>\n",
       "      <td>Soundtrack</td>\n",
       "      <td>2016-11-28</td>\n",
       "      <td>561720.0</td>\n",
       "    </tr>\n",
       "    <tr>\n",
       "      <th>116400</th>\n",
       "      <td>Soundtrack</td>\n",
       "      <td>2014-10-28</td>\n",
       "      <td>327270.0</td>\n",
       "    </tr>\n",
       "  </tbody>\n",
       "</table>\n",
       "</div>"
      ],
      "text/plain": [
       "          app_name release_date        id\n",
       "93173   Soundtrack   2015-11-30  411110.0\n",
       "108661  Soundtrack   2016-11-28  561720.0\n",
       "116400  Soundtrack   2014-10-28  327270.0"
      ]
     },
     "execution_count": 26,
     "metadata": {},
     "output_type": "execute_result"
    }
   ],
   "source": [
    "duplicado = steam_games['app_name'].value_counts() > 2\n",
    "steam_games[['app_name','release_date','id']][steam_games['app_name'].isin(duplicado[duplicado].index)].sort_values('app_name')"
   ]
  },
  {
   "cell_type": "code",
   "execution_count": 27,
   "metadata": {},
   "outputs": [
    {
     "data": {
      "text/html": [
       "<div>\n",
       "<style scoped>\n",
       "    .dataframe tbody tr th:only-of-type {\n",
       "        vertical-align: middle;\n",
       "    }\n",
       "\n",
       "    .dataframe tbody tr th {\n",
       "        vertical-align: top;\n",
       "    }\n",
       "\n",
       "    .dataframe thead th {\n",
       "        text-align: right;\n",
       "    }\n",
       "</style>\n",
       "<table border=\"1\" class=\"dataframe\">\n",
       "  <thead>\n",
       "    <tr style=\"text-align: right;\">\n",
       "      <th></th>\n",
       "      <th>app_name</th>\n",
       "      <th>release_date</th>\n",
       "      <th>id</th>\n",
       "    </tr>\n",
       "  </thead>\n",
       "  <tbody>\n",
       "    <tr>\n",
       "      <th>118857</th>\n",
       "      <td>AirMech® Soundtrack</td>\n",
       "      <td>2012-11-13</td>\n",
       "      <td>216173.0</td>\n",
       "    </tr>\n",
       "    <tr>\n",
       "      <th>107158</th>\n",
       "      <td>AirMech® Soundtrack</td>\n",
       "      <td>None</td>\n",
       "      <td>599520.0</td>\n",
       "    </tr>\n",
       "    <tr>\n",
       "      <th>118489</th>\n",
       "      <td>Aliens: Colonial Marines - Reconnaissance Pack</td>\n",
       "      <td>2013-05-07</td>\n",
       "      <td>219441.0</td>\n",
       "    </tr>\n",
       "    <tr>\n",
       "      <th>118488</th>\n",
       "      <td>Aliens: Colonial Marines - Reconnaissance Pack</td>\n",
       "      <td>2013-05-07</td>\n",
       "      <td>224850.0</td>\n",
       "    </tr>\n",
       "    <tr>\n",
       "      <th>119713</th>\n",
       "      <td>Alter Ego</td>\n",
       "      <td>2010-08-03</td>\n",
       "      <td>63110.0</td>\n",
       "    </tr>\n",
       "    <tr>\n",
       "      <th>...</th>\n",
       "      <td>...</td>\n",
       "      <td>...</td>\n",
       "      <td>...</td>\n",
       "    </tr>\n",
       "    <tr>\n",
       "      <th>110009</th>\n",
       "      <td>Ultimate Arena</td>\n",
       "      <td>2016-09-05</td>\n",
       "      <td>436260.0</td>\n",
       "    </tr>\n",
       "    <tr>\n",
       "      <th>94892</th>\n",
       "      <td>WARZONE</td>\n",
       "      <td>2016-07-11</td>\n",
       "      <td>494290.0</td>\n",
       "    </tr>\n",
       "    <tr>\n",
       "      <th>100232</th>\n",
       "      <td>WARZONE</td>\n",
       "      <td>2017-10-17</td>\n",
       "      <td>712230.0</td>\n",
       "    </tr>\n",
       "    <tr>\n",
       "      <th>115981</th>\n",
       "      <td>Warhammer Quest</td>\n",
       "      <td>2015-01-07</td>\n",
       "      <td>329270.0</td>\n",
       "    </tr>\n",
       "    <tr>\n",
       "      <th>115982</th>\n",
       "      <td>Warhammer Quest</td>\n",
       "      <td>2015-01-07</td>\n",
       "      <td>326670.0</td>\n",
       "    </tr>\n",
       "  </tbody>\n",
       "</table>\n",
       "<p>70 rows × 3 columns</p>\n",
       "</div>"
      ],
      "text/plain": [
       "                                              app_name release_date        id\n",
       "118857                             AirMech® Soundtrack   2012-11-13  216173.0\n",
       "107158                             AirMech® Soundtrack         None  599520.0\n",
       "118489  Aliens: Colonial Marines - Reconnaissance Pack   2013-05-07  219441.0\n",
       "118488  Aliens: Colonial Marines - Reconnaissance Pack   2013-05-07  224850.0\n",
       "119713                                       Alter Ego   2010-08-03   63110.0\n",
       "...                                                ...          ...       ...\n",
       "110009                                  Ultimate Arena   2016-09-05  436260.0\n",
       "94892                                          WARZONE   2016-07-11  494290.0\n",
       "100232                                         WARZONE   2017-10-17  712230.0\n",
       "115981                                 Warhammer Quest   2015-01-07  329270.0\n",
       "115982                                 Warhammer Quest   2015-01-07  326670.0\n",
       "\n",
       "[70 rows x 3 columns]"
      ]
     },
     "execution_count": 27,
     "metadata": {},
     "output_type": "execute_result"
    }
   ],
   "source": [
    "duplicado = steam_games['app_name'].value_counts() == 2\n",
    "steam_games[['app_name','release_date','id']][steam_games['app_name'].isin(duplicado[duplicado].index)].sort_values('app_name')"
   ]
  },
  {
   "cell_type": "code",
   "execution_count": 28,
   "metadata": {},
   "outputs": [],
   "source": [
    "# borro uno de los registros con valores duplicados en app_name y release_date ()\n",
    "steam_games.drop_duplicates(subset=['app_name','release_date'], inplace=True)"
   ]
  },
  {
   "cell_type": "code",
   "execution_count": 29,
   "metadata": {},
   "outputs": [
    {
     "data": {
      "text/plain": [
       "genres           138\n",
       "app_name           0\n",
       "release_date    2065\n",
       "id                 0\n",
       "dtype: int64"
      ]
     },
     "execution_count": 29,
     "metadata": {},
     "output_type": "execute_result"
    }
   ],
   "source": [
    "steam_games[['genres', 'app_name','release_date','id']].isna().sum()"
   ]
  },
  {
   "cell_type": "code",
   "execution_count": 30,
   "metadata": {},
   "outputs": [],
   "source": [
    "# borro todos los registros nulos que no puedo imputar\n",
    "steam_games.dropna(subset=['release_date','genres'],inplace=True)"
   ]
  },
  {
   "cell_type": "code",
   "execution_count": 31,
   "metadata": {},
   "outputs": [
    {
     "data": {
      "text/plain": [
       "genres          0\n",
       "app_name        0\n",
       "release_date    0\n",
       "id              0\n",
       "dtype: int64"
      ]
     },
     "execution_count": 31,
     "metadata": {},
     "output_type": "execute_result"
    }
   ],
   "source": [
    "steam_games[['genres', 'app_name','release_date','id']].isna().sum()"
   ]
  },
  {
   "cell_type": "code",
   "execution_count": 32,
   "metadata": {},
   "outputs": [],
   "source": [
    "#creo una nueva columna con solo el año usando expresion regular\n",
    "steam_games['year'] = steam_games['release_date'].str.extract(r'(\\d{4})')\n"
   ]
  },
  {
   "cell_type": "code",
   "execution_count": 33,
   "metadata": {},
   "outputs": [
    {
     "data": {
      "text/plain": [
       "genres            0\n",
       "app_name          0\n",
       "release_date      0\n",
       "id                0\n",
       "year            101\n",
       "dtype: int64"
      ]
     },
     "execution_count": 33,
     "metadata": {},
     "output_type": "execute_result"
    }
   ],
   "source": [
    "#verifico cuantos valores no se lograron imputar el año\n",
    "steam_games[['genres', 'app_name','release_date','id', 'year']].isna().sum()"
   ]
  },
  {
   "cell_type": "code",
   "execution_count": 34,
   "metadata": {},
   "outputs": [
    {
     "data": {
      "text/plain": [
       "release_date\n",
       "Coming Soon                                                                                   27\n",
       "TBA                                                                                           16\n",
       "Coming soon                                                                                    8\n",
       "TBD                                                                                            6\n",
       "SOON                                                                                           5\n",
       "Soon                                                                                           4\n",
       "coming soon                                                                                    2\n",
       "Coming Soon!                                                                                   2\n",
       "When it's done                                                                                 2\n",
       "Not yet available                                                                              2\n",
       "To Be Announced                                                                                1\n",
       "Soon..                                                                                         1\n",
       "Soon™                                                                                          1\n",
       "\"\"\"Soon\"\"\"                                                                                     1\n",
       "To be Announced                                                                                1\n",
       "To be announced                                                                                1\n",
       "SOON™                                                                                          1\n",
       "When it is ready                                                                               1\n",
       "When it's done!                                                                                1\n",
       "early access                                                                                   1\n",
       "When it is finished                                                                            1\n",
       "Please wait warmly                                                                             1\n",
       "Release Date TBA                                                                               1\n",
       "0̵1̴0̵0̶1̷0̶0̵0̴ ̴0̶0̶1̶1̶0̷0̶1̵1̴ ̸0̶0̶1̶1̵0̶1̷0̴0̵ ̴0̶1̷0̸1̵0̷0̴1̶0̴ ̴0̷0̴1̷1̶0̶1̵1̷1̵ ̵     1\n",
       "Play Beta in demo!                                                                             1\n",
       "Early Access soon                                                                              1\n",
       "Early Access Starting Soon!                                                                    1\n",
       "Demo is available now!                                                                         1\n",
       "Demo coming soon.                                                                              1\n",
       "Datachunks conflicted. Be vigiliant.                                                           1\n",
       "Comming Soon                                                                                   1\n",
       "Coming soon..                                                                                  1\n",
       "Coming Soon/Próximamente                                                                       1\n",
       "C'est bientôt...                    (ou pas)                                                   1\n",
       "Beta测试已开启                                                                                      1\n",
       "14 July                                                                                        1\n",
       "soon                                                                                           1\n",
       "Name: count, dtype: int64"
      ]
     },
     "execution_count": 34,
     "metadata": {},
     "output_type": "execute_result"
    }
   ],
   "source": [
    "#observo los valores mas comunes de release_date de los cuales no se pudo imputar el año\n",
    "steam_games[['genres', 'app_name','release_date','id', 'year']][steam_games['year'].isna()].value_counts('release_date')"
   ]
  },
  {
   "cell_type": "code",
   "execution_count": 35,
   "metadata": {},
   "outputs": [],
   "source": [
    "# borro los regisros sin año\n",
    "steam_games.dropna(subset=['year'],inplace=True)"
   ]
  },
  {
   "cell_type": "code",
   "execution_count": 36,
   "metadata": {},
   "outputs": [
    {
     "name": "stdout",
     "output_type": "stream",
     "text": [
      "<class 'pandas.core.frame.DataFrame'>\n",
      "Index: 29824 entries, 88310 to 120443\n",
      "Data columns (total 14 columns):\n",
      " #   Column        Non-Null Count  Dtype  \n",
      "---  ------        --------------  -----  \n",
      " 0   publisher     23887 non-null  object \n",
      " 1   genres        29824 non-null  object \n",
      " 2   app_name      29824 non-null  object \n",
      " 3   title         29824 non-null  object \n",
      " 4   url           29824 non-null  object \n",
      " 5   release_date  29824 non-null  object \n",
      " 6   tags          29800 non-null  object \n",
      " 7   reviews_url   29824 non-null  object \n",
      " 8   specs         29162 non-null  object \n",
      " 9   price         28698 non-null  object \n",
      " 10  early_access  29824 non-null  float64\n",
      " 11  id            29824 non-null  float64\n",
      " 12  developer     28601 non-null  object \n",
      " 13  year          29824 non-null  object \n",
      "dtypes: float64(2), object(12)\n",
      "memory usage: 3.4+ MB\n"
     ]
    }
   ],
   "source": [
    "steam_games.info()"
   ]
  },
  {
   "cell_type": "code",
   "execution_count": 37,
   "metadata": {},
   "outputs": [
    {
     "data": {
      "text/plain": [
       "publisher       5937\n",
       "genres             0\n",
       "app_name           0\n",
       "title              0\n",
       "url                0\n",
       "release_date       0\n",
       "tags              24\n",
       "reviews_url        0\n",
       "specs            662\n",
       "price           1126\n",
       "early_access       0\n",
       "id                 0\n",
       "developer       1223\n",
       "year               0\n",
       "dtype: int64"
      ]
     },
     "execution_count": 37,
     "metadata": {},
     "output_type": "execute_result"
    }
   ],
   "source": [
    "steam_games.isna().sum()"
   ]
  },
  {
   "cell_type": "code",
   "execution_count": 38,
   "metadata": {},
   "outputs": [
    {
     "name": "stdout",
     "output_type": "stream",
     "text": [
      "<class 'pandas.core.frame.DataFrame'>\n",
      "Index: 29824 entries, 88310 to 120443\n",
      "Data columns (total 4 columns):\n",
      " #   Column    Non-Null Count  Dtype  \n",
      "---  ------    --------------  -----  \n",
      " 0   genres    29824 non-null  object \n",
      " 1   app_name  29824 non-null  object \n",
      " 2   id        29824 non-null  float64\n",
      " 3   year      29824 non-null  object \n",
      "dtypes: float64(1), object(3)\n",
      "memory usage: 1.1+ MB\n"
     ]
    }
   ],
   "source": [
    "#columnas que voy a usar para los endpoints\n",
    "steam_games[['genres', 'app_name','id', 'year']].info()"
   ]
  },
  {
   "cell_type": "code",
   "execution_count": 39,
   "metadata": {},
   "outputs": [
    {
     "data": {
      "text/plain": [
       "Index(['publisher', 'genres', 'app_name', 'title', 'url', 'release_date',\n",
       "       'tags', 'reviews_url', 'specs', 'price', 'early_access', 'id',\n",
       "       'developer', 'year'],\n",
       "      dtype='object')"
      ]
     },
     "execution_count": 39,
     "metadata": {},
     "output_type": "execute_result"
    }
   ],
   "source": [
    "steam_games.columns"
   ]
  },
  {
   "cell_type": "code",
   "execution_count": 40,
   "metadata": {},
   "outputs": [],
   "source": [
    "columnas_borrar=['title', 'url', 'tags', 'reviews_url', 'specs', 'early_access']\n",
    "steam_games.drop(columns=columnas_borrar, inplace=True)"
   ]
  },
  {
   "cell_type": "code",
   "execution_count": 41,
   "metadata": {},
   "outputs": [],
   "source": [
    "#exporto la data de user_review en formato CSV comprimido con la info basica que necesito.\n",
    "with gzip.open('../data/limpio/steam_games.csv.gz', 'wb') as file:\n",
    "    steam_games.to_csv(file, index=False, encoding='utf-8')"
   ]
  }
 ],
 "metadata": {
  "kernelspec": {
   "display_name": "venv",
   "language": "python",
   "name": "python3"
  },
  "language_info": {
   "codemirror_mode": {
    "name": "ipython",
    "version": 3
   },
   "file_extension": ".py",
   "mimetype": "text/x-python",
   "name": "python",
   "nbconvert_exporter": "python",
   "pygments_lexer": "ipython3",
   "version": "3.10.11"
  }
 },
 "nbformat": 4,
 "nbformat_minor": 2
}
