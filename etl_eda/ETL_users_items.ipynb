{
 "cells": [
  {
   "cell_type": "code",
   "execution_count": 1,
   "metadata": {},
   "outputs": [],
   "source": [
    "import pandas as pd\n",
    "import ast\n",
    "import gzip\n",
    "import os"
   ]
  },
  {
   "cell_type": "code",
   "execution_count": 2,
   "metadata": {},
   "outputs": [],
   "source": [
    "def descompimir_json(ruta, variable_anidada):\n",
    "    # recibe una ruta de un archivo json anidado y carga la información en un DF\n",
    "    fila = []\n",
    "    with gzip.open(ruta, 'rt', encoding='MacRoman') as archivo:\n",
    "      for line in archivo.readlines():\n",
    "          fila.append(ast.literal_eval(line))\n",
    "\n",
    "    df = pd.DataFrame(fila) ## leemos cada una de las filas\n",
    "\n",
    "    ## desanidad el contenido de items y se agrega una nueva\n",
    "    ## fila por cada elemento deitems\n",
    "\n",
    "    ## Reseteamos los indices del dataframe\n",
    "    df = df.explode(variable_anidada).reset_index()\n",
    "\n",
    "    ## Eliminamos los indices pasados (repetidos)\n",
    "    df = df.drop(columns=\"index\")\n",
    "\n",
    "    ## Concatenamos con user_id con todas las columans aplanadas del json.\n",
    "    data_plana = pd.json_normalize(df[variable_anidada])[['item_id', 'playtime_forever','playtime_2weeks']]\n",
    "    df = pd.concat([df['user_id'], data_plana ], axis=1)\n",
    "\n",
    "    return df"
   ]
  },
  {
   "cell_type": "code",
   "execution_count": 3,
   "metadata": {},
   "outputs": [],
   "source": [
    "path_data =  os.path.join('../data/original/users_items.json.gz')\n",
    "user_items = descompimir_json(path_data,'items')"
   ]
  },
  {
   "cell_type": "code",
   "execution_count": 4,
   "metadata": {},
   "outputs": [],
   "source": [
    "backup=user_items.copy()"
   ]
  },
  {
   "cell_type": "code",
   "execution_count": null,
   "metadata": {},
   "outputs": [],
   "source": [
    "#user_items=backup.copy()"
   ]
  },
  {
   "cell_type": "code",
   "execution_count": 5,
   "metadata": {},
   "outputs": [
    {
     "data": {
      "text/html": [
       "<div>\n",
       "<style scoped>\n",
       "    .dataframe tbody tr th:only-of-type {\n",
       "        vertical-align: middle;\n",
       "    }\n",
       "\n",
       "    .dataframe tbody tr th {\n",
       "        vertical-align: top;\n",
       "    }\n",
       "\n",
       "    .dataframe thead th {\n",
       "        text-align: right;\n",
       "    }\n",
       "</style>\n",
       "<table border=\"1\" class=\"dataframe\">\n",
       "  <thead>\n",
       "    <tr style=\"text-align: right;\">\n",
       "      <th></th>\n",
       "      <th>user_id</th>\n",
       "      <th>playtime_forever</th>\n",
       "      <th>item_id</th>\n",
       "    </tr>\n",
       "  </thead>\n",
       "  <tbody>\n",
       "    <tr>\n",
       "      <th>0</th>\n",
       "      <td>76561197970982479</td>\n",
       "      <td>6.0</td>\n",
       "      <td>10</td>\n",
       "    </tr>\n",
       "    <tr>\n",
       "      <th>1</th>\n",
       "      <td>76561197970982479</td>\n",
       "      <td>0.0</td>\n",
       "      <td>20</td>\n",
       "    </tr>\n",
       "    <tr>\n",
       "      <th>2</th>\n",
       "      <td>76561197970982479</td>\n",
       "      <td>7.0</td>\n",
       "      <td>30</td>\n",
       "    </tr>\n",
       "    <tr>\n",
       "      <th>3</th>\n",
       "      <td>76561197970982479</td>\n",
       "      <td>0.0</td>\n",
       "      <td>40</td>\n",
       "    </tr>\n",
       "    <tr>\n",
       "      <th>4</th>\n",
       "      <td>76561197970982479</td>\n",
       "      <td>0.0</td>\n",
       "      <td>50</td>\n",
       "    </tr>\n",
       "    <tr>\n",
       "      <th>...</th>\n",
       "      <td>...</td>\n",
       "      <td>...</td>\n",
       "      <td>...</td>\n",
       "    </tr>\n",
       "    <tr>\n",
       "      <th>5170010</th>\n",
       "      <td>76561198329548331</td>\n",
       "      <td>0.0</td>\n",
       "      <td>373330</td>\n",
       "    </tr>\n",
       "    <tr>\n",
       "      <th>5170011</th>\n",
       "      <td>76561198329548331</td>\n",
       "      <td>3.0</td>\n",
       "      <td>388490</td>\n",
       "    </tr>\n",
       "    <tr>\n",
       "      <th>5170012</th>\n",
       "      <td>76561198329548331</td>\n",
       "      <td>4.0</td>\n",
       "      <td>521570</td>\n",
       "    </tr>\n",
       "    <tr>\n",
       "      <th>5170013</th>\n",
       "      <td>76561198329548331</td>\n",
       "      <td>3.0</td>\n",
       "      <td>519140</td>\n",
       "    </tr>\n",
       "    <tr>\n",
       "      <th>5170014</th>\n",
       "      <td>edward_tremethick</td>\n",
       "      <td>NaN</td>\n",
       "      <td>NaN</td>\n",
       "    </tr>\n",
       "  </tbody>\n",
       "</table>\n",
       "<p>5170015 rows × 3 columns</p>\n",
       "</div>"
      ],
      "text/plain": [
       "                   user_id  playtime_forever item_id\n",
       "0        76561197970982479               6.0      10\n",
       "1        76561197970982479               0.0      20\n",
       "2        76561197970982479               7.0      30\n",
       "3        76561197970982479               0.0      40\n",
       "4        76561197970982479               0.0      50\n",
       "...                    ...               ...     ...\n",
       "5170010  76561198329548331               0.0  373330\n",
       "5170011  76561198329548331               3.0  388490\n",
       "5170012  76561198329548331               4.0  521570\n",
       "5170013  76561198329548331               3.0  519140\n",
       "5170014  edward_tremethick               NaN     NaN\n",
       "\n",
       "[5170015 rows x 3 columns]"
      ]
     },
     "execution_count": 5,
     "metadata": {},
     "output_type": "execute_result"
    }
   ],
   "source": [
    "backup"
   ]
  },
  {
   "cell_type": "code",
   "execution_count": 6,
   "metadata": {},
   "outputs": [
    {
     "data": {
      "text/html": [
       "<div>\n",
       "<style scoped>\n",
       "    .dataframe tbody tr th:only-of-type {\n",
       "        vertical-align: middle;\n",
       "    }\n",
       "\n",
       "    .dataframe tbody tr th {\n",
       "        vertical-align: top;\n",
       "    }\n",
       "\n",
       "    .dataframe thead th {\n",
       "        text-align: right;\n",
       "    }\n",
       "</style>\n",
       "<table border=\"1\" class=\"dataframe\">\n",
       "  <thead>\n",
       "    <tr style=\"text-align: right;\">\n",
       "      <th></th>\n",
       "      <th>user_id</th>\n",
       "      <th>playtime_forever</th>\n",
       "      <th>item_id</th>\n",
       "    </tr>\n",
       "  </thead>\n",
       "  <tbody>\n",
       "    <tr>\n",
       "      <th>0</th>\n",
       "      <td>76561197970982479</td>\n",
       "      <td>6.0</td>\n",
       "      <td>10</td>\n",
       "    </tr>\n",
       "    <tr>\n",
       "      <th>1</th>\n",
       "      <td>76561197970982479</td>\n",
       "      <td>0.0</td>\n",
       "      <td>20</td>\n",
       "    </tr>\n",
       "    <tr>\n",
       "      <th>2</th>\n",
       "      <td>76561197970982479</td>\n",
       "      <td>7.0</td>\n",
       "      <td>30</td>\n",
       "    </tr>\n",
       "    <tr>\n",
       "      <th>3</th>\n",
       "      <td>76561197970982479</td>\n",
       "      <td>0.0</td>\n",
       "      <td>40</td>\n",
       "    </tr>\n",
       "    <tr>\n",
       "      <th>4</th>\n",
       "      <td>76561197970982479</td>\n",
       "      <td>0.0</td>\n",
       "      <td>50</td>\n",
       "    </tr>\n",
       "    <tr>\n",
       "      <th>...</th>\n",
       "      <td>...</td>\n",
       "      <td>...</td>\n",
       "      <td>...</td>\n",
       "    </tr>\n",
       "    <tr>\n",
       "      <th>5170010</th>\n",
       "      <td>76561198329548331</td>\n",
       "      <td>0.0</td>\n",
       "      <td>373330</td>\n",
       "    </tr>\n",
       "    <tr>\n",
       "      <th>5170011</th>\n",
       "      <td>76561198329548331</td>\n",
       "      <td>3.0</td>\n",
       "      <td>388490</td>\n",
       "    </tr>\n",
       "    <tr>\n",
       "      <th>5170012</th>\n",
       "      <td>76561198329548331</td>\n",
       "      <td>4.0</td>\n",
       "      <td>521570</td>\n",
       "    </tr>\n",
       "    <tr>\n",
       "      <th>5170013</th>\n",
       "      <td>76561198329548331</td>\n",
       "      <td>3.0</td>\n",
       "      <td>519140</td>\n",
       "    </tr>\n",
       "    <tr>\n",
       "      <th>5170014</th>\n",
       "      <td>edward_tremethick</td>\n",
       "      <td>NaN</td>\n",
       "      <td>NaN</td>\n",
       "    </tr>\n",
       "  </tbody>\n",
       "</table>\n",
       "<p>5170015 rows × 3 columns</p>\n",
       "</div>"
      ],
      "text/plain": [
       "                   user_id  playtime_forever item_id\n",
       "0        76561197970982479               6.0      10\n",
       "1        76561197970982479               0.0      20\n",
       "2        76561197970982479               7.0      30\n",
       "3        76561197970982479               0.0      40\n",
       "4        76561197970982479               0.0      50\n",
       "...                    ...               ...     ...\n",
       "5170010  76561198329548331               0.0  373330\n",
       "5170011  76561198329548331               3.0  388490\n",
       "5170012  76561198329548331               4.0  521570\n",
       "5170013  76561198329548331               3.0  519140\n",
       "5170014  edward_tremethick               NaN     NaN\n",
       "\n",
       "[5170015 rows x 3 columns]"
      ]
     },
     "execution_count": 6,
     "metadata": {},
     "output_type": "execute_result"
    }
   ],
   "source": [
    "user_items"
   ]
  },
  {
   "cell_type": "code",
   "execution_count": 7,
   "metadata": {},
   "outputs": [
    {
     "name": "stdout",
     "output_type": "stream",
     "text": [
      "<class 'pandas.core.frame.DataFrame'>\n",
      "RangeIndex: 5170015 entries, 0 to 5170014\n",
      "Data columns (total 3 columns):\n",
      " #   Column            Dtype  \n",
      "---  ------            -----  \n",
      " 0   user_id           object \n",
      " 1   playtime_forever  float64\n",
      " 2   item_id           object \n",
      "dtypes: float64(1), object(2)\n",
      "memory usage: 118.3+ MB\n"
     ]
    }
   ],
   "source": [
    "user_items.info()"
   ]
  },
  {
   "cell_type": "code",
   "execution_count": 8,
   "metadata": {},
   "outputs": [],
   "source": [
    "user_items['item_id'] = user_items['item_id'].astype(float)"
   ]
  },
  {
   "cell_type": "code",
   "execution_count": 9,
   "metadata": {},
   "outputs": [
    {
     "name": "stdout",
     "output_type": "stream",
     "text": [
      "<class 'pandas.core.frame.DataFrame'>\n",
      "RangeIndex: 5170015 entries, 0 to 5170014\n",
      "Data columns (total 3 columns):\n",
      " #   Column            Dtype  \n",
      "---  ------            -----  \n",
      " 0   user_id           object \n",
      " 1   playtime_forever  float64\n",
      " 2   item_id           float64\n",
      "dtypes: float64(2), object(1)\n",
      "memory usage: 118.3+ MB\n"
     ]
    }
   ],
   "source": [
    "user_items.info()"
   ]
  },
  {
   "cell_type": "code",
   "execution_count": 10,
   "metadata": {},
   "outputs": [
    {
     "data": {
      "text/html": [
       "<div>\n",
       "<style scoped>\n",
       "    .dataframe tbody tr th:only-of-type {\n",
       "        vertical-align: middle;\n",
       "    }\n",
       "\n",
       "    .dataframe tbody tr th {\n",
       "        vertical-align: top;\n",
       "    }\n",
       "\n",
       "    .dataframe thead th {\n",
       "        text-align: right;\n",
       "    }\n",
       "</style>\n",
       "<table border=\"1\" class=\"dataframe\">\n",
       "  <thead>\n",
       "    <tr style=\"text-align: right;\">\n",
       "      <th></th>\n",
       "      <th>playtime_forever</th>\n",
       "      <th>item_id</th>\n",
       "    </tr>\n",
       "  </thead>\n",
       "  <tbody>\n",
       "    <tr>\n",
       "      <th>count</th>\n",
       "      <td>5.153209e+06</td>\n",
       "      <td>5.153209e+06</td>\n",
       "    </tr>\n",
       "    <tr>\n",
       "      <th>mean</th>\n",
       "      <td>9.914951e+02</td>\n",
       "      <td>1.784481e+05</td>\n",
       "    </tr>\n",
       "    <tr>\n",
       "      <th>std</th>\n",
       "      <td>5.418204e+03</td>\n",
       "      <td>1.318598e+05</td>\n",
       "    </tr>\n",
       "    <tr>\n",
       "      <th>min</th>\n",
       "      <td>0.000000e+00</td>\n",
       "      <td>1.000000e+01</td>\n",
       "    </tr>\n",
       "    <tr>\n",
       "      <th>25%</th>\n",
       "      <td>0.000000e+00</td>\n",
       "      <td>3.446000e+04</td>\n",
       "    </tr>\n",
       "    <tr>\n",
       "      <th>50%</th>\n",
       "      <td>3.400000e+01</td>\n",
       "      <td>2.144200e+05</td>\n",
       "    </tr>\n",
       "    <tr>\n",
       "      <th>75%</th>\n",
       "      <td>3.550000e+02</td>\n",
       "      <td>2.664300e+05</td>\n",
       "    </tr>\n",
       "    <tr>\n",
       "      <th>max</th>\n",
       "      <td>6.427730e+05</td>\n",
       "      <td>5.307200e+05</td>\n",
       "    </tr>\n",
       "  </tbody>\n",
       "</table>\n",
       "</div>"
      ],
      "text/plain": [
       "       playtime_forever       item_id\n",
       "count      5.153209e+06  5.153209e+06\n",
       "mean       9.914951e+02  1.784481e+05\n",
       "std        5.418204e+03  1.318598e+05\n",
       "min        0.000000e+00  1.000000e+01\n",
       "25%        0.000000e+00  3.446000e+04\n",
       "50%        3.400000e+01  2.144200e+05\n",
       "75%        3.550000e+02  2.664300e+05\n",
       "max        6.427730e+05  5.307200e+05"
      ]
     },
     "execution_count": 10,
     "metadata": {},
     "output_type": "execute_result"
    }
   ],
   "source": [
    "user_items.describe()"
   ]
  },
  {
   "cell_type": "code",
   "execution_count": 11,
   "metadata": {},
   "outputs": [
    {
     "data": {
      "text/plain": [
       "user_id                 0\n",
       "playtime_forever    16806\n",
       "item_id             16806\n",
       "dtype: int64"
      ]
     },
     "execution_count": 11,
     "metadata": {},
     "output_type": "execute_result"
    }
   ],
   "source": [
    "user_items.isna().sum()"
   ]
  },
  {
   "cell_type": "code",
   "execution_count": null,
   "metadata": {},
   "outputs": [],
   "source": []
  }
 ],
 "metadata": {
  "kernelspec": {
   "display_name": "venv",
   "language": "python",
   "name": "python3"
  },
  "language_info": {
   "codemirror_mode": {
    "name": "ipython",
    "version": 3
   },
   "file_extension": ".py",
   "mimetype": "text/x-python",
   "name": "python",
   "nbconvert_exporter": "python",
   "pygments_lexer": "ipython3",
   "version": "3.10.11"
  }
 },
 "nbformat": 4,
 "nbformat_minor": 2
}
